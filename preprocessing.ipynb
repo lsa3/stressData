{
 "cells": [
  {
   "cell_type": "markdown",
   "metadata": {},
   "source": [
    "Descompactando as pastas   "
   ]
  },
  {
   "cell_type": "code",
   "execution_count": null,
   "metadata": {},
   "outputs": [],
   "source": [
    "import os\n",
    "import zipfile\n",
    "\n",
    "def descompactar_arquivo(arquivo_zip, pasta_destino):\n",
    "    with zipfile.ZipFile(arquivo_zip, 'r') as zip_ref:\n",
    "        zip_ref.extractall(pasta_destino)\n",
    "        print(f'Arquivo {arquivo_zip} descompactado para {pasta_destino}')\n",
    "\n",
    "def descompactar_varias_pastas(pasta_origem, pasta_destino):\n",
    "    if not os.path.exists(pasta_destino):\n",
    "        os.makedirs(pasta_destino)\n",
    "\n",
    "    for arquivo_zip in os.listdir(pasta_origem):\n",
    "        if arquivo_zip.endswith('.zip'):\n",
    "            caminho_arquivo_zip = os.path.join(pasta_origem, arquivo_zip)\n",
    "            nome_pasta = os.path.splitext(arquivo_zip)[0]\n",
    "            pasta_destino_completa = os.path.join(pasta_destino, nome_pasta)\n",
    "\n",
    "            if not os.path.exists(pasta_destino_completa):\n",
    "                os.makedirs(pasta_destino_completa)\n",
    "\n",
    "            descompactar_arquivo(caminho_arquivo_zip, pasta_destino_completa)\n",
    "\n",
    "if __name__ == \"__main__\":\n",
    "    # Pasta contendo os arquivos ZIP\n",
    "    pasta_origem = \"C:\\Users\\lsa3\\Downloads\\doi_10.5061_dryad.5hqbzkh6f__v6\\Stress_dataset\\6B\"\n",
    "\n",
    "    # Pasta de destino para os arquivos descompactados\n",
    "    pasta_destino = \"C:\\Users\\lsa3\\Downloads\\doi_10.5061_dryad.5hqbzkh6f__v6\\Stress_dataset\\6B\"\n",
    "\n",
    "    descompactar_varias_pastas(pasta_origem, pasta_destino)\n"
   ]
  }
 ],
 "metadata": {
  "language_info": {
   "name": "python"
  }
 },
 "nbformat": 4,
 "nbformat_minor": 2
}
